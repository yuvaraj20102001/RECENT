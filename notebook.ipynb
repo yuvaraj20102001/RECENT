{
 "cells": [
  {
   "cell_type": "code",
   "execution_count": 7,
   "metadata": {},
   "outputs": [
    {
     "data": {
      "text/plain": [
       "\"'a>>>'\""
      ]
     },
     "execution_count": 7,
     "metadata": {},
     "output_type": "execute_result"
    }
   ],
   "source": [
    "abs(-1*22.3)\n",
    "ascii('a>>>')"
   ]
  },
  {
   "cell_type": "code",
   "execution_count": 10,
   "metadata": {},
   "outputs": [
    {
     "name": "stdout",
     "output_type": "stream",
     "text": [
      "parent\n",
      "child\n",
      "parent\n"
     ]
    }
   ],
   "source": [
    "# single inheritance\n",
    "class parent:\n",
    "    def __init__(self):\n",
    "        print('parent')\n",
    "        \n",
    "\n",
    "class child(parent):\n",
    "    def __init__(self):\n",
    "        print('child')\n",
    "        parent.__init__(self)\n",
    "        #super.__init__(self)\n",
    "        \n",
    "\n",
    "obj=parent()\n",
    "obj1=child()\n"
   ]
  },
  {
   "cell_type": "code",
   "execution_count": 11,
   "metadata": {},
   "outputs": [
    {
     "name": "stdout",
     "output_type": "stream",
     "text": [
      "grandson\n",
      "child\n",
      "parent\n"
     ]
    }
   ],
   "source": [
    "# multilevel inheritance\n",
    "\n",
    "class parent:\n",
    "    def __init__(self):\n",
    "        print('parent')\n",
    "        \n",
    "\n",
    "class son(parent):\n",
    "    def __init__(self):\n",
    "        print('child')\n",
    "        parent.__init__(self)\n",
    "\n",
    "\n",
    "class grandson(son):\n",
    "    def __init__(self):\n",
    "        print('grandson')\n",
    "        son.__init__(self)\n",
    "        \n",
    "\n",
    "obj1=grandson()\n"
   ]
  },
  {
   "cell_type": "code",
   "execution_count": 17,
   "metadata": {},
   "outputs": [
    {
     "name": "stdout",
     "output_type": "stream",
     "text": [
      "child 1\n",
      "parent\n",
      "child 2\n",
      "parent\n"
     ]
    }
   ],
   "source": [
    "#hierarchical inheritance\n",
    "\n",
    "class parent:\n",
    "    def __init__(self):\n",
    "        print('parent')\n",
    "        \n",
    "\n",
    "class child1(parent):\n",
    "    def __init__(self):\n",
    "        print('child 1')\n",
    "        parent.__init__(self)\n",
    "        #super.__init__(self)\n",
    "\n",
    "class child2(parent):\n",
    "    def __init__(self):\n",
    "        print('child 2')\n",
    "        parent.__init__(self)\n",
    "        #super.__init__(self)\n",
    "        \n",
    "\n",
    "\n",
    "obj1=child1()\n",
    "obj2=child2()\n",
    "\n"
   ]
  },
  {
   "cell_type": "code",
   "execution_count": 19,
   "metadata": {},
   "outputs": [
    {
     "name": "stdout",
     "output_type": "stream",
     "text": [
      "child 1\n",
      "parent\n",
      "child 2\n",
      "parent\n",
      "grandson 1\n",
      "child 1\n",
      "parent\n"
     ]
    }
   ],
   "source": [
    "#multiple inheritance\n",
    "class parent:\n",
    "    def __init__(self):\n",
    "        print('parent')\n",
    "        \n",
    "\n",
    "class child1(parent):\n",
    "    def __init__(self):\n",
    "        print('child 1')\n",
    "        parent.__init__(self)\n",
    "        #super.__init__(self)\n",
    "\n",
    "class grandson1(child1):\n",
    "    def __init__(self):\n",
    "        print('grandson 1')\n",
    "        child1.__init__(self)\n",
    "\n",
    "class child2(parent):\n",
    "    def __init__(self):\n",
    "        print('child 2')\n",
    "        parent.__init__(self)\n",
    "        #super.__init__(self)\n",
    "        \n",
    "\n",
    "\n",
    "obj1=child1()\n",
    "obj2=child2()\n",
    "obj11=grandson1()\n"
   ]
  },
  {
   "cell_type": "code",
   "execution_count": 1,
   "metadata": {},
   "outputs": [
    {
     "name": "stdout",
     "output_type": "stream",
     "text": [
      "30\n",
      "child\n"
     ]
    }
   ],
   "source": [
    "''' class parent:\n",
    "    def __init__(self,x,y):\n",
    "        self.x=x\n",
    "        self.y=y\n",
    "        print(x+y)\n",
    "        \n",
    "    def __init__(self):\n",
    "        print('parent')\n",
    "    \n",
    "\n",
    "class child(parent):\n",
    "    def __init__(self):\n",
    "        print('child')\n",
    "        \n",
    "\n",
    "obj=parent(10,20)\n",
    "obj1=child()\n",
    " '''\n",
    "\n",
    "\n",
    "class parent:\n",
    "\n",
    "    def __init__(self):\n",
    "        print('parent')\n",
    "        \n",
    "    def __init__(self,x,y):\n",
    "        self.x=x\n",
    "        self.y=y\n",
    "        print(x+y)\n",
    "        \n",
    "    \n",
    "    \n",
    "\n",
    "class child(parent):\n",
    "    def __init__(self):\n",
    "        print('child')\n",
    "        \n",
    "\n",
    "obj=parent(10,20)\n",
    "obj1=child()\n"
   ]
  },
  {
   "cell_type": "code",
   "execution_count": null,
   "metadata": {},
   "outputs": [
    {
     "name": "stdout",
     "output_type": "stream",
     "text": [
      "Emp class calle\n",
      "no attribute error\n"
     ]
    }
   ],
   "source": [
    "class person():\n",
    "    def __init__(self,name,id):\n",
    "        self.name=name\n",
    "        self.id=id\n",
    "    def display(self):\n",
    "        print(self.name,self.id)\n",
    "\n",
    "class emp(person):\n",
    "    def print(self):\n",
    "        print(\"Emp class called\")\n",
    "\n",
    "emp_details=emp(\"yuva\",102)\n",
    "emp_details1=person(\"raj\",101)\n",
    "try:\n",
    "    emp_details.print()\n",
    "    emp_details1.print()\n",
    "\n",
    "    emp_details.display()\n",
    "    emp_details1.display()\n",
    "except:\n",
    "    print(\"no attribute error\")\n"
   ]
  },
  {
   "cell_type": "code",
   "execution_count": 27,
   "metadata": {},
   "outputs": [
    {
     "name": "stdout",
     "output_type": "stream",
     "text": [
      "This function is in school.\n",
      "This function is in student 1. \n",
      "This function is in student 2.\n"
     ]
    }
   ],
   "source": [
    "# Python program to demonstrate\n",
    "# hybrid inheritance\n",
    "\n",
    "\n",
    "class School:\n",
    "\tdef func1(self):\n",
    "\t\tprint(\"This function is in school.\")\n",
    "\n",
    "\n",
    "class Student1(School):\n",
    "\tdef func2(self):\n",
    "\t\tprint(\"This function is in student 1. \")\n",
    "\n",
    "\n",
    "class Student2(School):\n",
    "\tdef func3(self):\n",
    "\t\tprint(\"This function is in student 2.\")\n",
    "\n",
    "\n",
    "class Student3(Student1,Student2,School):\n",
    "\tdef func4(self):\n",
    "\t\tprint(\"This function is in student 3.\")\n",
    "\n",
    "\n",
    "# Driver's code\n",
    "object = Student3()\n",
    "object.func1()\n",
    "object.func2()\n",
    "object.func3()\n"
   ]
  },
  {
   "cell_type": "code",
   "execution_count": 8,
   "metadata": {},
   "outputs": [
    {
     "name": "stdout",
     "output_type": "stream",
     "text": [
      "SAMSUNG\n"
     ]
    }
   ],
   "source": [
    "# Method Overriding\n",
    "''' class parent:\n",
    "\n",
    "    def phone(self):\n",
    "        print(\"NOKIA\")\n",
    "        \n",
    "class child(parent):\n",
    "    pass\n",
    "\n",
    "obj=child()\n",
    "obj.phone()\n",
    " '''\n",
    "\n",
    "\n",
    "\n",
    "class parent:\n",
    "    \n",
    "    def phone(self):\n",
    "        print(\"NOKIA\")\n",
    "        \n",
    "class child(parent):\n",
    "    def phone(self):\n",
    "        print(\"SAMSUNG\") # overriden by the child's phone method    \n",
    "\n",
    "obj=child()\n",
    "obj.phone()\n"
   ]
  },
  {
   "cell_type": "code",
   "execution_count": 16,
   "metadata": {},
   "outputs": [
    {
     "name": "stdout",
     "output_type": "stream",
     "text": [
      "17 28\n"
     ]
    }
   ],
   "source": [
    "#operator Overloading\n",
    "\n",
    "class A:\n",
    "    \n",
    "\n",
    "    def __init__(self,a,b):\n",
    "        self.a=a\n",
    "        self.b=b\n",
    "    def __add__(self,other):\n",
    "         return A(self.a+other.a,self.b+other.b)\n",
    "\n",
    "\n",
    "    def __str__(self):\n",
    "        return '{} {}'.format(self.a,self.b)\n",
    "        \n",
    "\n",
    "obj1=A(7,6)\n",
    "obj2=A(10,22)\n",
    "sum=obj1+obj2\n",
    "print(sum)\n"
   ]
  },
  {
   "cell_type": "code",
   "execution_count": 17,
   "metadata": {},
   "outputs": [
    {
     "name": "stdout",
     "output_type": "stream",
     "text": [
      "yuva 102\n"
     ]
    }
   ],
   "source": [
    "#variable types\n",
    "class student:\n",
    "    \n",
    "    school=\"common school\" # class variable 1\n",
    "\n",
    "    def __init__(self,name,id):\n",
    "        self.name=name # instance variable 1\n",
    "        self.id=id  # instance variable 2\n",
    "\n",
    "    def display(self):\n",
    "        print(self.name,self.id)\n",
    "\n",
    "obj=student(\"yuva\",102)\n",
    "obj.display()"
   ]
  },
  {
   "cell_type": "code",
   "execution_count": null,
   "metadata": {},
   "outputs": [],
   "source": [
    "class student:\n",
    "    \n",
    "    school=\"common school\" \n",
    "\n",
    "    def __init__(self,name,id):   # instance method\n",
    "        self.name=name\n",
    "        self.id=id  \n",
    "\n",
    "    @ classmethod\n",
    "    def display(cls):\n",
    "        print(cls.school)\n",
    "\n",
    "obj=student(\"yuva\",102)\n",
    "obj.display()"
   ]
  },
  {
   "cell_type": "code",
   "execution_count": 19,
   "metadata": {},
   "outputs": [
    {
     "name": "stdout",
     "output_type": "stream",
     "text": [
      "Compliling2\n",
      "Execution2\n"
     ]
    }
   ],
   "source": [
    "class ide1:\n",
    "    def execute(self):\n",
    "        print(\"Compliling1\")\n",
    "        print(\"Execution1\")\n",
    "        \n",
    "class ide2:\n",
    "    def execute(self):\n",
    "        print(\"Compliling2\")\n",
    "        print(\"Execution2\")\n",
    "\n",
    "class lap:\n",
    "    def code(self,ide):\n",
    "        ide.execute()\n",
    "\n",
    "\n",
    "ide=ide2()\n",
    "lap1=lap()\n",
    "lap1.code(ide)"
   ]
  }
 ],
 "metadata": {
  "kernelspec": {
   "display_name": "Python 3.10.5 64-bit",
   "language": "python",
   "name": "python3"
  },
  "language_info": {
   "codemirror_mode": {
    "name": "ipython",
    "version": 3
   },
   "file_extension": ".py",
   "mimetype": "text/x-python",
   "name": "python",
   "nbconvert_exporter": "python",
   "pygments_lexer": "ipython3",
   "version": "3.10.5"
  },
  "orig_nbformat": 4,
  "vscode": {
   "interpreter": {
    "hash": "97cc609b13305c559618ec78a438abc56230b9381f827f22d070313b9a1f3777"
   }
  }
 },
 "nbformat": 4,
 "nbformat_minor": 2
}
