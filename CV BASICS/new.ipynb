{
 "cells": [
  {
   "cell_type": "code",
   "execution_count": 1,
   "metadata": {},
   "outputs": [
    {
     "name": "stdout",
     "output_type": "stream",
     "text": [
      "[[[ 39  43  44]\n",
      "  [ 42  46  47]\n",
      "  [ 44  47  52]\n",
      "  ...\n",
      "  [ 57  55  55]\n",
      "  [ 55  53  53]\n",
      "  [ 52  50  50]]\n",
      "\n",
      " [[ 37  40  44]\n",
      "  [ 42  45  49]\n",
      "  [ 46  49  54]\n",
      "  ...\n",
      "  [ 62  60  60]\n",
      "  [ 60  58  58]\n",
      "  [ 57  55  55]]\n",
      "\n",
      " [[ 41  45  50]\n",
      "  [ 46  50  55]\n",
      "  [ 51  55  60]\n",
      "  ...\n",
      "  [ 64  63  65]\n",
      "  [ 63  62  64]\n",
      "  [ 60  59  61]]\n",
      "\n",
      " ...\n",
      "\n",
      " [[ 56 143  99]\n",
      "  [ 48 133  89]\n",
      "  [ 49 129  86]\n",
      "  ...\n",
      "  [ 60 134  92]\n",
      "  [ 63 134  94]\n",
      "  [ 73 145 103]]\n",
      "\n",
      " [[ 54 138  96]\n",
      "  [ 59 141  99]\n",
      "  [ 50 130  87]\n",
      "  ...\n",
      "  [ 56 132  91]\n",
      "  [ 69 142 104]\n",
      "  [ 64 137  97]]\n",
      "\n",
      " [[ 45 129  87]\n",
      "  [ 58 140  98]\n",
      "  [ 71 151 108]\n",
      "  ...\n",
      "  [ 49 124  86]\n",
      "  [ 52 125  87]\n",
      "  [ 51 124  86]]]\n",
      "[[39 43 44]\n",
      " [39 43 44]\n",
      " [39 43 44]\n",
      " [39 43 44]\n",
      " [39 43 44]\n",
      " [39 43 44]\n",
      " [39 43 44]\n",
      " [39 43 44]\n",
      " [39 43 44]\n",
      " [39 43 44]]\n"
     ]
    },
    {
     "ename": "",
     "evalue": "",
     "output_type": "error",
     "traceback": [
      "\u001b[1;31mThe Kernel crashed while executing code in the the current cell or a previous cell. Please review the code in the cell(s) to identify a possible cause of the failure. Click <a href='https://aka.ms/vscodeJupyterKernelCrash'>here</a> for more info. View Jupyter <a href='command:jupyter.viewOutput'>log</a> for further details."
     ]
    }
   ],
   "source": [
    "\n",
    "import numpy as np\n",
    "import cv2 as cv2\n",
    "\n",
    "\n",
    "\n",
    "\n",
    "path2=\"archive/data/messi5.jpg\"\n",
    "roi_img=cv2.imread(path2)\n",
    "print(roi_img)\n",
    "\n",
    "\n",
    "\n",
    "replicate= cv2.copyMakeBorder(roi_img,10,10,10,10,cv2.BORDER_REPLICATE)\n",
    "\n",
    "cv2.imshow(\"replicate\",replicate)\n",
    "\n",
    "print(replicate[1,:10,:])\n",
    "# print(replicate[1,10:,:])\n",
    "# print(replicate[1,-10:,:])"
   ]
  },
  {
   "cell_type": "code",
   "execution_count": 16,
   "metadata": {},
   "outputs": [
    {
     "ename": "SyntaxError",
     "evalue": "invalid syntax (3736404971.py, line 1)",
     "output_type": "error",
     "traceback": [
      "\u001b[0;36m  Input \u001b[0;32mIn [16]\u001b[0;36m\u001b[0m\n\u001b[0;31m    pip3 install opencv python\u001b[0m\n\u001b[0m         ^\u001b[0m\n\u001b[0;31mSyntaxError\u001b[0m\u001b[0;31m:\u001b[0m invalid syntax\n"
     ]
    },
    {
     "ename": "",
     "evalue": "",
     "output_type": "error",
     "traceback": [
      "\u001b[1;31mThe Kernel crashed while executing code in the the current cell or a previous cell. Please review the code in the cell(s) to identify a possible cause of the failure. Click <a href='https://aka.ms/vscodeJupyterKernelCrash'>here</a> for more info. View Jupyter <a href='command:jupyter.viewOutput'>log</a> for further details."
     ]
    }
   ],
   "source": []
  }
 ],
 "metadata": {
  "kernelspec": {
   "display_name": "Python 3.10.5 64-bit",
   "language": "python",
   "name": "python3"
  },
  "language_info": {
   "codemirror_mode": {
    "name": "ipython",
    "version": 3
   },
   "file_extension": ".py",
   "mimetype": "text/x-python",
   "name": "python",
   "nbconvert_exporter": "python",
   "pygments_lexer": "ipython3",
   "version": "3.10.5"
  },
  "orig_nbformat": 4,
  "vscode": {
   "interpreter": {
    "hash": "97cc609b13305c559618ec78a438abc56230b9381f827f22d070313b9a1f3777"
   }
  }
 },
 "nbformat": 4,
 "nbformat_minor": 2
}
