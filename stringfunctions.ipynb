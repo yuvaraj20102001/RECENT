{
    "cells": [
        {
            "cell_type": "code",
            "execution_count": 1,
            "metadata": {},
            "outputs": [
                {
                    "data": {
                        "text/plain": [
                            "'Hello , Iam Hogan,hello'"
                        ]
                    },
                    "execution_count": 1,
                    "metadata": {},
                    "output_type": "execute_result"
                }
            ],
            "source": [
                "msg=\"Hello , Iam Hogan,hello\"\n",
                "msg\n"
            ]
        },
        {
            "cell_type": "code",
            "execution_count": 2,
            "metadata": {},
            "outputs": [
                {
                    "data": {
                        "text/plain": [
                            "'Hello , iam hogan,hello'"
                        ]
                    },
                    "execution_count": 2,
                    "metadata": {},
                    "output_type": "execute_result"
                }
            ],
            "source": [
                "msg.capitalize()\n"
            ]
        },
        {
            "cell_type": "code",
            "execution_count": 3,
            "metadata": {},
            "outputs": [
                {
                    "data": {
                        "text/plain": [
                            "'hello , iam hogan,hello'"
                        ]
                    },
                    "execution_count": 3,
                    "metadata": {},
                    "output_type": "execute_result"
                }
            ],
            "source": [
                "msg.casefold()"
            ]
        },
        {
            "cell_type": "code",
            "execution_count": 4,
            "metadata": {},
            "outputs": [
                {
                    "data": {
                        "text/plain": [
                            "'             Hello , Iam Hogan,hello              '"
                        ]
                    },
                    "execution_count": 4,
                    "metadata": {},
                    "output_type": "execute_result"
                }
            ],
            "source": [
                "msg.center(50)"
            ]
        },
        {
            "cell_type": "code",
            "execution_count": 5,
            "metadata": {},
            "outputs": [
                {
                    "data": {
                        "text/plain": [
                            "3"
                        ]
                    },
                    "execution_count": 5,
                    "metadata": {},
                    "output_type": "execute_result"
                }
            ],
            "source": [
                "msg=\"A string primitive Also a string primitive Yet another string primitive\"\n",
                "msg.count('st')"
            ]
        },
        {
            "cell_type": "code",
            "execution_count": 6,
            "metadata": {},
            "outputs": [
                {
                    "name": "stdout",
                    "output_type": "stream",
                    "text": [
                        "b'My name is St\\\\xe5le'\n",
                        "b'My name is Stle'\n",
                        "b'My name is St\\\\N{LATIN SMALL LETTER A WITH RING ABOVE}le'\n",
                        "b'My name is St?le'\n",
                        "b'My name is St&#229;le'\n"
                    ]
                }
            ],
            "source": [
                "msg.encode()\n",
                "msg=\"My name is Ståle\"\n",
                "print(msg.encode(encoding=\"ascii\",errors=\"backslashreplace\"))\n",
                "print(msg.encode(encoding=\"ascii\",errors=\"ignore\"))\n",
                "print(msg.encode(encoding=\"ascii\",errors=\"namereplace\"))\n",
                "print(msg.encode(encoding=\"ascii\",errors=\"replace\"))\n",
                "print(msg.encode(encoding=\"ascii\",errors=\"xmlcharrefreplace\"))"
            ]
        },
        {
            "cell_type": "code",
            "execution_count": 7,
            "metadata": {},
            "outputs": [
                {
                    "data": {
                        "text/plain": [
                            "True"
                        ]
                    },
                    "execution_count": 7,
                    "metadata": {},
                    "output_type": "execute_result"
                }
            ],
            "source": [
                "msg=\"A string primitive Also a string primitive Yet another string primitive\"\n",
                "msg.endswith(\"primitive\")"
            ]
        },
        {
            "cell_type": "code",
            "execution_count": 8,
            "metadata": {},
            "outputs": [
                {
                    "data": {
                        "text/plain": [
                            "'A string primitive Also a string primitive Yet another string primitive'"
                        ]
                    },
                    "execution_count": 8,
                    "metadata": {},
                    "output_type": "execute_result"
                }
            ],
            "source": [
                "msg.expandtabs(5)"
            ]
        },
        {
            "cell_type": "code",
            "execution_count": 9,
            "metadata": {},
            "outputs": [
                {
                    "data": {
                        "text/plain": [
                            "2"
                        ]
                    },
                    "execution_count": 9,
                    "metadata": {},
                    "output_type": "execute_result"
                }
            ],
            "source": [
                "msg.find(\"string\")"
            ]
        },
        {
            "cell_type": "code",
            "execution_count": 10,
            "metadata": {},
            "outputs": [
                {
                    "name": "stdout",
                    "output_type": "stream",
                    "text": [
                        "My name is John, I'm 36\n",
                        "My name is John, I'm 34\n",
                        "My name is John, I'm 35\n"
                    ]
                }
            ],
            "source": [
                "txt1 = \"My name is {fname}, I'm {age}\".format(fname = \"John\", age = 36)\n",
                "txt2 = \"My name is {0}, I'm {1}\".format(\"John\",34)\n",
                "txt3 = \"My name is {}, I'm {}\".format(\"John\",35)\n",
                "\n",
                "print(txt1,txt2,txt3,sep=\"\\n\")"
            ]
        },
        {
            "cell_type": "code",
            "execution_count": 11,
            "metadata": {},
            "outputs": [
                {
                    "name": "stdout",
                    "output_type": "stream",
                    "text": [
                        "2\n",
                        "2\n",
                        "2\n",
                        "2\n",
                        "2\n",
                        "2\n",
                        "2\n",
                        "2\n",
                        "2\n",
                        "2\n",
                        "2\n"
                    ]
                }
            ],
            "source": [
                "for i in msg.split(\" \"):\n",
                "    print(msg.find(\"string\"))"
            ]
        },
        {
            "cell_type": "code",
            "execution_count": 12,
            "metadata": {},
            "outputs": [
                {
                    "name": "stdout",
                    "output_type": "stream",
                    "text": [
                        "True\n",
                        "True\n",
                        "False\n",
                        "False\n",
                        "True\n"
                    ]
                }
            ],
            "source": [
                "msg=\"SASFDSJKDSA\"\n",
                "print(msg.isalnum())\n",
                "print(msg.isalpha())\n",
                "print(msg.isdigit())\n",
                "print(msg.isnumeric())\n",
                "print(msg.isascii())"
            ]
        },
        {
            "cell_type": "code",
            "execution_count": 13,
            "metadata": {},
            "outputs": [
                {
                    "data": {
                        "text/plain": [
                            "'12|23|123|12|21|312|12'"
                        ]
                    },
                    "execution_count": 13,
                    "metadata": {},
                    "output_type": "execute_result"
                }
            ],
            "source": [
                "msg=[\"12\",\"23\",\"123\",\"12\",\"21\",\"312\",\"12\"]\n",
                "\"|\".join(msg)"
            ]
        },
        {
            "cell_type": "code",
            "execution_count": 14,
            "metadata": {},
            "outputs": [
                {
                    "data": {
                        "text/plain": [
                            "'a string primitive also a string primitive yet another string primitive'"
                        ]
                    },
                    "execution_count": 14,
                    "metadata": {},
                    "output_type": "execute_result"
                }
            ],
            "source": [
                "msg=\"A string primitive Also a string primitive Yet another string primitive\"\n",
                "msg.upper()\n",
                "msg.lower()"
            ]
        },
        {
            "cell_type": "code",
            "execution_count": 15,
            "metadata": {},
            "outputs": [
                {
                    "data": {
                        "text/plain": [
                            "'A string primitive Also a string primitive Yet another string primitive'"
                        ]
                    },
                    "execution_count": 15,
                    "metadata": {},
                    "output_type": "execute_result"
                }
            ],
            "source": [
                "msg=\"          A string primitive Also a string primitive Yet another string primitive     \"\n",
                "msg.lstrip().rstrip()\n"
            ]
        },
        {
            "cell_type": "code",
            "execution_count": 16,
            "metadata": {},
            "outputs": [
                {
                    "data": {
                        "text/plain": [
                            "('          A ',\n",
                            " 'string',\n",
                            " ' primitive Also a string primitive Yet another string primitive     ')"
                        ]
                    },
                    "execution_count": 16,
                    "metadata": {},
                    "output_type": "execute_result"
                }
            ],
            "source": [
                "msg.partition(\"string\")"
            ]
        },
        {
            "cell_type": "code",
            "execution_count": 17,
            "metadata": {},
            "outputs": [
                {
                    "data": {
                        "text/plain": [
                            "'a STRING PRIMITIVE aLSO A STRING PRIMITIVE yET ANOTHER STRING PRIMITIVE'"
                        ]
                    },
                    "execution_count": 17,
                    "metadata": {},
                    "output_type": "execute_result"
                }
            ],
            "source": [
                "msg=\"A string primitive Also a string primitive Yet another string primitive\"\n",
                "msg.swapcase().strip()"
            ]
        },
        {
            "cell_type": "code",
            "execution_count": 18,
            "metadata": {},
            "outputs": [
                {
                    "data": {
                        "text/plain": [
                            "['A string primitive Also a ',\n",
                            " ' string primitive Yet another string primitive']"
                        ]
                    },
                    "execution_count": 18,
                    "metadata": {},
                    "output_type": "execute_result"
                }
            ],
            "source": [
                "msg=\"A string primitive Also a \\n string primitive Yet another string primitive\"\n",
                "msg.split(\" \")\n",
                "msg.splitlines()"
            ]
        },
        {
            "cell_type": "code",
            "execution_count": 19,
            "metadata": {},
            "outputs": [
                {
                    "data": {
                        "text/plain": [
                            "'A string primitive Also a \\n string primitive Yet another string primitive'"
                        ]
                    },
                    "execution_count": 19,
                    "metadata": {},
                    "output_type": "execute_result"
                }
            ],
            "source": [
                "msg.zfill(5)"
            ]
        },
        {
            "cell_type": "code",
            "execution_count": 20,
            "metadata": {},
            "outputs": [
                {
                    "data": {
                        "text/plain": [
                            "20"
                        ]
                    },
                    "execution_count": 20,
                    "metadata": {},
                    "output_type": "execute_result"
                }
            ],
            "source": [
                "msg=\"10+20+30+40+50\"\n",
                "eval(msg)\n",
                "msg=\"x+10\"\n",
                "eval(msg,{\"x\":10})"
            ]
        },
        {
            "cell_type": "code",
            "execution_count": null,
            "metadata": {},
            "outputs": [],
            "source": []
        }
    ],
    "metadata": {
        "kernelspec": {
            "display_name": "Python 3.10.5 64-bit",
            "language": "python",
            "name": "python3"
        },
        "language_info": {
            "codemirror_mode": {
                "name": "ipython",
                "version": 3
            },
            "file_extension": ".py",
            "mimetype": "text/x-python",
            "name": "python",
            "nbconvert_exporter": "python",
            "pygments_lexer": "ipython3",
            "version": "3.10.5"
        },
        "orig_nbformat": 4,
        "vscode": {
            "interpreter": {
                "hash": "97cc609b13305c559618ec78a438abc56230b9381f827f22d070313b9a1f3777"
            }
        }
    },
    "nbformat": 4,
    "nbformat_minor": 2
}
