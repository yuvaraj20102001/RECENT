{
 "cells": [
  {
   "cell_type": "code",
   "execution_count": null,
   "id": "f02ac8dd-6ca9-4cad-8a90-6ca9c8444d6f",
   "metadata": {},
   "outputs": [],
   "source": []
  }
 ],
 "metadata": {
  "kernelspec": {
   "display_name": "Python 3 (ipykernel)",
   "language": "python",
   "name": "python3"
  },
  "language_info": {
   "name": ""
  }
 },
 "nbformat": 4,
 "nbformat_minor": 5
}
